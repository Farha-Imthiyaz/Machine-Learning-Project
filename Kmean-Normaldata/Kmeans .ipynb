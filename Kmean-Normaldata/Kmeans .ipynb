{
 "cells": [
  {
   "cell_type": "markdown",
   "metadata": {},
   "source": [
    "### Kmeans Algorithm from CSV File data"
   ]
  },
  {
   "cell_type": "code",
   "execution_count": 1,
   "metadata": {},
   "outputs": [],
   "source": [
    "#Loading Libraries\n",
    "import pandas as pd\n",
    "import numpy as np \n",
    "import matplotlib.pyplot as plt\n",
    "from sklearn.cluster import KMeans\n"
   ]
  },
  {
   "cell_type": "code",
   "execution_count": 9,
   "metadata": {},
   "outputs": [
    {
     "data": {
      "image/png": "[encoded data removed]",
      "text/plain": [
       "<Figure size 432x288 with 1 Axes>"
      ]
     },
     "metadata": {
      "needs_background": "light"
     },
     "output_type": "display_data"
    }
   ],
   "source": [
    "# Loading data\n",
    "data = pd.read_csv('image.csv')\n",
    "\n",
    "plt.scatter(data['Width'],data['Height'])\n",
    "plt.show()\n",
    "\n",
    "x = data.iloc[:,4:6] # 1t for rows and second for columns\n"
   ]
  },
  {
   "cell_type": "code",
   "execution_count": 10,
   "metadata": {},
   "outputs": [
    {
     "name": "stdout",
     "output_type": "stream",
     "text": [
      "[2 2 1 0 2 1 0 1 2 1 0 0 0 1 2 2 1 0 0 1 2 0 0 0 0 0 2 1 2 0 1 0 1 2 2 1 0\n",
      " 1 2 1 0 0 1 1 2 2 0 0]\n",
      "    Width  Height  Clusters\n",
      "0     245     370         2\n",
      "1     278     365         2\n",
      "2     237     329         1\n",
      "3     249     338         0\n",
      "4     230     349         2\n",
      "5     219     310         1\n",
      "6     267     334         0\n",
      "7     215     303         1\n",
      "8     245     363         2\n",
      "9     213     328         1\n",
      "10    274     339         0\n",
      "11    247     316         0\n",
      "12    244     336         0\n",
      "13    239     334         1\n",
      "14    240     358         2\n",
      "15    243     355         2\n",
      "16    230     331         1\n",
      "17    256     327         0\n",
      "18    253     309         0\n",
      "19    242     321         1\n",
      "20    278     349         2\n",
      "21    257     321         0\n",
      "22    246     325         0\n",
      "23    268     326         0\n",
      "24    265     342         0\n",
      "25    253     333         0\n",
      "26    233     371         2\n",
      "27    242     308         1\n",
      "28    239     345         2\n",
      "29    267     336         0\n",
      "30    228     319         1\n",
      "31    256     312         0\n",
      "32    222     314         1\n",
      "33    254     369         2\n",
      "34    267     354         2\n",
      "35    218     323         1\n",
      "36    262     330         0\n",
      "37    234     334         1\n",
      "38    265     370         2\n",
      "39    217     318         1\n",
      "40    253     325         0\n",
      "41    262     331         0\n",
      "42    228     332         1\n",
      "43    223     319         1\n",
      "44    257     344         2\n",
      "45    268     366         2\n",
      "46    262     318         0\n",
      "47    247     317         0\n"
     ]
    },
    {
     "data": {
      "image/png": "[encoded data removed]",
      "text/plain": [
       "<Figure size 432x288 with 1 Axes>"
      ]
     },
     "metadata": {
      "needs_background": "light"
     },
     "output_type": "display_data"
    }
   ],
   "source": [
    "\n",
    "kmeans = KMeans(3)\n",
    "kmeans.fit(x)\n",
    "\n",
    "\n",
    "identified_clusters = kmeans.fit_predict(x)\n",
    "print(identified_clusters)\n",
    "\n",
    "\n",
    "data_with_clusters = data.copy()\n",
    "data_with_clusters['Clusters'] = identified_clusters \n",
    "plt.scatter(data_with_clusters['Width'],data_with_clusters['Height'],c=data_with_clusters['Clusters'],cmap='rainbow')\n",
    "\n",
    "col = data_with_clusters.loc[:, ['Width', 'Height', 'Clusters']]\n",
    "print(col)"
   ]
  }
 ],
 "metadata": {
  "kernelspec": {
   "display_name": "Python 3",
   "language": "python",
   "name": "python3"
  },
  "language_info": {
   "codemirror_mode": {
    "name": "ipython",
    "version": 3
   },
   "file_extension": ".py",
   "mimetype": "text/x-python",
   "name": "python",
   "nbconvert_exporter": "python",
   "pygments_lexer": "ipython3",
   "version": "3.7.4"
  }
 },
 "nbformat": 4,
 "nbformat_minor": 2
}
