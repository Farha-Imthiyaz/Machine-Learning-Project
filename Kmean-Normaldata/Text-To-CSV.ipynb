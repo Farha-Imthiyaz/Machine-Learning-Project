{
 "cells": [
  {
   "cell_type": "markdown",
   "metadata": {},
   "source": [
    "### Coverting Text file (From Images data of Adaboost Algorithm Output) changing to CSV"
   ]
  },
  {
   "cell_type": "code",
   "execution_count": 1,
   "metadata": {},
   "outputs": [],
   "source": [
    "# importing pandas library\n",
    "import pandas as pd\n"
   ]
  },
  {
   "cell_type": "code",
   "execution_count": 2,
   "metadata": {},
   "outputs": [],
   "source": [
    "# reading given csv file\n",
    "# and creating dataframe\n",
    "file = pd.read_csv(\"info.txt\"\n",
    "\t\t\t\t\t,header = None,  delimiter = ' ')\n"
   ]
  },
  {
   "cell_type": "code",
   "execution_count": 3,
   "metadata": {},
   "outputs": [],
   "source": [
    "# adding column headings\n",
    "file.columns = ['Filename', 'NoOfObjects', 'XCoordinate', 'YCoordinate', 'Width', 'Height']\n",
    "\n",
    "# Creating new column\n",
    "file[\"AreaOfImage\"] = file[\"Width\"] * file[\"Height\"]\n"
   ]
  },
  {
   "cell_type": "code",
   "execution_count": 4,
   "metadata": {},
   "outputs": [],
   "source": [
    "# store dataframe into csv file\n",
    "file.to_csv('image.csv',\n",
    "\t\t\t\tindex = None)"
   ]
  }
 ],
 "metadata": {
  "kernelspec": {
   "display_name": "Python 3",
   "language": "python",
   "name": "python3"
  },
  "language_info": {
   "codemirror_mode": {
    "name": "ipython",
    "version": 3
   },
   "file_extension": ".py",
   "mimetype": "text/x-python",
   "name": "python",
   "nbconvert_exporter": "python",
   "pygments_lexer": "ipython3",
   "version": "3.7.4"
  }
 },
 "nbformat": 4,
 "nbformat_minor": 2
}
