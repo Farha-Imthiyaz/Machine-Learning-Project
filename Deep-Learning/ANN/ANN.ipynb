{
 "cells": [
  {
   "cell_type": "markdown",
   "metadata": {},
   "source": [
    "### Artificial Nural Network (ANN)"
   ]
  },
  {
   "cell_type": "code",
   "execution_count": 1,
   "metadata": {},
   "outputs": [],
   "source": [
    "# Import the Libraries\n",
    "import numpy as np\n",
    "import matplotlib.pyplot as plt\n",
    "import pandas as pd"
   ]
  },
  {
   "cell_type": "code",
   "execution_count": 3,
   "metadata": {},
   "outputs": [],
   "source": [
    "# Load the Dataset\n",
    "data = pd.read_csv('Churn_Modelling.csv')"
   ]
  },
  {
   "cell_type": "code",
   "execution_count": 4,
   "metadata": {},
   "outputs": [
    {
     "data": {
      "text/html": [
       "<div>\n",
       "<style scoped>\n",
       "    .dataframe tbody tr th:only-of-type {\n",
       "        vertical-align: middle;\n",
       "    }\n",
       "\n",
       "    .dataframe tbody tr th {\n",
       "        vertical-align: top;\n",
       "    }\n",
       "\n",
       "    .dataframe thead th {\n",
       "        text-align: right;\n",
       "    }\n",
       "</style>\n",
       "<table border=\"1\" class=\"dataframe\">\n",
       "  <thead>\n",
       "    <tr style=\"text-align: right;\">\n",
       "      <th></th>\n",
       "      <th>RowNumber</th>\n",
       "      <th>CustomerId</th>\n",
       "      <th>Surname</th>\n",
       "      <th>CreditScore</th>\n",
       "      <th>Geography</th>\n",
       "      <th>Gender</th>\n",
       "      <th>Age</th>\n",
       "      <th>Tenure</th>\n",
       "      <th>Balance</th>\n",
       "      <th>NumOfProducts</th>\n",
       "      <th>HasCrCard</th>\n",
       "      <th>IsActiveMember</th>\n",
       "      <th>EstimatedSalary</th>\n",
       "      <th>Exited</th>\n",
       "    </tr>\n",
       "  </thead>\n",
       "  <tbody>\n",
       "    <tr>\n",
       "      <td>0</td>\n",
       "      <td>1</td>\n",
       "      <td>15634602</td>\n",
       "      <td>Hargrave</td>\n",
       "      <td>619</td>\n",
       "      <td>France</td>\n",
       "      <td>Female</td>\n",
       "      <td>42</td>\n",
       "      <td>2</td>\n",
       "      <td>0.00</td>\n",
       "      <td>1</td>\n",
       "      <td>1</td>\n",
       "      <td>1</td>\n",
       "      <td>101348.88</td>\n",
       "      <td>1</td>\n",
       "    </tr>\n",
       "    <tr>\n",
       "      <td>1</td>\n",
       "      <td>2</td>\n",
       "      <td>15647311</td>\n",
       "      <td>Hill</td>\n",
       "      <td>608</td>\n",
       "      <td>Spain</td>\n",
       "      <td>Female</td>\n",
       "      <td>41</td>\n",
       "      <td>1</td>\n",
       "      <td>83807.86</td>\n",
       "      <td>1</td>\n",
       "      <td>0</td>\n",
       "      <td>1</td>\n",
       "      <td>112542.58</td>\n",
       "      <td>0</td>\n",
       "    </tr>\n",
       "    <tr>\n",
       "      <td>2</td>\n",
       "      <td>3</td>\n",
       "      <td>15619304</td>\n",
       "      <td>Onio</td>\n",
       "      <td>502</td>\n",
       "      <td>France</td>\n",
       "      <td>Female</td>\n",
       "      <td>42</td>\n",
       "      <td>8</td>\n",
       "      <td>159660.80</td>\n",
       "      <td>3</td>\n",
       "      <td>1</td>\n",
       "      <td>0</td>\n",
       "      <td>113931.57</td>\n",
       "      <td>1</td>\n",
       "    </tr>\n",
       "    <tr>\n",
       "      <td>3</td>\n",
       "      <td>4</td>\n",
       "      <td>15701354</td>\n",
       "      <td>Boni</td>\n",
       "      <td>699</td>\n",
       "      <td>France</td>\n",
       "      <td>Female</td>\n",
       "      <td>39</td>\n",
       "      <td>1</td>\n",
       "      <td>0.00</td>\n",
       "      <td>2</td>\n",
       "      <td>0</td>\n",
       "      <td>0</td>\n",
       "      <td>93826.63</td>\n",
       "      <td>0</td>\n",
       "    </tr>\n",
       "    <tr>\n",
       "      <td>4</td>\n",
       "      <td>5</td>\n",
       "      <td>15737888</td>\n",
       "      <td>Mitchell</td>\n",
       "      <td>850</td>\n",
       "      <td>Spain</td>\n",
       "      <td>Female</td>\n",
       "      <td>43</td>\n",
       "      <td>2</td>\n",
       "      <td>125510.82</td>\n",
       "      <td>1</td>\n",
       "      <td>1</td>\n",
       "      <td>1</td>\n",
       "      <td>79084.10</td>\n",
       "      <td>0</td>\n",
       "    </tr>\n",
       "  </tbody>\n",
       "</table>\n",
       "</div>"
      ],
      "text/plain": [
       "   RowNumber  CustomerId   Surname  CreditScore Geography  Gender  Age  \\\n",
       "0          1    15634602  Hargrave          619    France  Female   42   \n",
       "1          2    15647311      Hill          608     Spain  Female   41   \n",
       "2          3    15619304      Onio          502    France  Female   42   \n",
       "3          4    15701354      Boni          699    France  Female   39   \n",
       "4          5    15737888  Mitchell          850     Spain  Female   43   \n",
       "\n",
       "   Tenure    Balance  NumOfProducts  HasCrCard  IsActiveMember  \\\n",
       "0       2       0.00              1          1               1   \n",
       "1       1   83807.86              1          0               1   \n",
       "2       8  159660.80              3          1               0   \n",
       "3       1       0.00              2          0               0   \n",
       "4       2  125510.82              1          1               1   \n",
       "\n",
       "   EstimatedSalary  Exited  \n",
       "0        101348.88       1  \n",
       "1        112542.58       0  \n",
       "2        113931.57       1  \n",
       "3         93826.63       0  \n",
       "4         79084.10       0  "
      ]
     },
     "execution_count": 4,
     "metadata": {},
     "output_type": "execute_result"
    }
   ],
   "source": [
    "data.head()"
   ]
  },
  {
   "cell_type": "code",
   "execution_count": 6,
   "metadata": {},
   "outputs": [],
   "source": [
    "# Split Dataset into X and Y\n",
    "X = pd.DataFrame(data.iloc[:, 3:13].values)\n",
    "y = data.iloc[:, 13].values"
   ]
  },
  {
   "cell_type": "code",
   "execution_count": 7,
   "metadata": {},
   "outputs": [],
   "source": [
    "# Encode Categorical Data\n",
    "# label encoding for gender variable\n",
    "from sklearn.preprocessing import LabelEncoder, OneHotEncoder\n",
    "labelencoder_X_2 = LabelEncoder()\n",
    "X.loc[:, 2] = labelencoder_X_2.fit_transform(X.iloc[:, 2])"
   ]
  },
  {
   "cell_type": "code",
   "execution_count": 8,
   "metadata": {},
   "outputs": [],
   "source": [
    "# One Hot Encoding\n",
    "labelencoder_X_1 = LabelEncoder()\n",
    "X.loc[:, 1] = labelencoder_X_1.fit_transform(X.iloc[:, 1])"
   ]
  },
  {
   "cell_type": "code",
   "execution_count": 9,
   "metadata": {},
   "outputs": [
    {
     "name": "stderr",
     "output_type": "stream",
     "text": [
      "D:\\Anaconda\\lib\\site-packages\\sklearn\\preprocessing\\_encoders.py:415: FutureWarning: The handling of integer data will change in version 0.22. Currently, the categories are determined based on the range [0, max(values)], while in the future they will be determined based on the unique values.\n",
      "If you want the future behaviour and silence this warning, you can specify \"categories='auto'\".\n",
      "In case you used a LabelEncoder before this OneHotEncoder to convert the categories to integers, then you can now use the OneHotEncoder directly.\n",
      "  warnings.warn(msg, FutureWarning)\n",
      "D:\\Anaconda\\lib\\site-packages\\sklearn\\preprocessing\\_encoders.py:451: DeprecationWarning: The 'categorical_features' keyword is deprecated in version 0.20 and will be removed in 0.22. You can use the ColumnTransformer instead.\n",
      "  \"use the ColumnTransformer instead.\", DeprecationWarning)\n"
     ]
    }
   ],
   "source": [
    "onehotencoder = OneHotEncoder(categorical_features = [1])\n",
    "labelencoder_X_1 = LabelEncoder()\n",
    "X.loc[:, 1] = labelencoder_X_1.fit_transform(X.iloc[:, 1])\n",
    "X = onehotencoder.fit_transform(X).toarray()\n",
    "X = X[:, 1:]"
   ]
  },
  {
   "cell_type": "code",
   "execution_count": 10,
   "metadata": {},
   "outputs": [],
   "source": [
    "# Split the X and Y Dataset into the Training set and Test set\n",
    "\n",
    "from sklearn.model_selection import train_test_split\n",
    "X_train, X_test, y_train, y_test = train_test_split(X, y, test_size = 0.2, random_state = 0)"
   ]
  },
  {
   "cell_type": "code",
   "execution_count": 11,
   "metadata": {},
   "outputs": [],
   "source": [
    "# Perform Feature Scaling\n",
    "from sklearn.preprocessing import StandardScaler\n",
    "sc = StandardScaler()\n",
    "X_train = sc.fit_transform(X_train)\n",
    "X_test = sc.transform(X_test)"
   ]
  },
  {
   "cell_type": "code",
   "execution_count": 13,
   "metadata": {},
   "outputs": [],
   "source": [
    "# Build Artificial Neural Network\n",
    "# Import the Keras libraries and packages\n",
    "import keras\n",
    "from keras.models import Sequential\n",
    "from keras.layers import Dense"
   ]
  },
  {
   "cell_type": "code",
   "execution_count": 14,
   "metadata": {},
   "outputs": [],
   "source": [
    "# Initialize the Artificial Neural Network\n",
    "classifier = Sequential()"
   ]
  },
  {
   "cell_type": "code",
   "execution_count": 30,
   "metadata": {},
   "outputs": [],
   "source": [
    "# Add the input layer and the first hidden layer\n",
    "\n",
    "classifier.add(Dense(input_dim = 11, units = 6, kernel_initializer = 'uniform', activation = 'relu'))"
   ]
  },
  {
   "cell_type": "code",
   "execution_count": 31,
   "metadata": {},
   "outputs": [],
   "source": [
    "# Add the second hidden layer\n",
    "classifier.add(Dense(units = 6, kernel_initializer = 'uniform', activation = 'relu'))"
   ]
  },
  {
   "cell_type": "code",
   "execution_count": 32,
   "metadata": {},
   "outputs": [],
   "source": [
    "# Add the output layer\n",
    "classifier.add(Dense(units = 1, kernel_initializer = 'uniform', activation = 'sigmoid'))"
   ]
  },
  {
   "cell_type": "code",
   "execution_count": 33,
   "metadata": {},
   "outputs": [],
   "source": [
    "# Train the ANN\n",
    "# Compile the ANN\n",
    "classifier.compile(optimizer = 'adam', loss = 'binary_crossentropy', metrics = ['accuracy'])"
   ]
  },
  {
   "cell_type": "code",
   "execution_count": 35,
   "metadata": {},
   "outputs": [
    {
     "name": "stdout",
     "output_type": "stream",
     "text": [
      "Epoch 1/100\n",
      "800/800 [==============================] - 1s 1ms/step - loss: 0.4840 - accuracy: 0.7961\n",
      "Epoch 2/100\n",
      "800/800 [==============================] - 1s 1ms/step - loss: 0.4268 - accuracy: 0.7960\n",
      "Epoch 3/100\n",
      "800/800 [==============================] - 1s 950us/step - loss: 0.4211 - accuracy: 0.8044\n",
      "Epoch 4/100\n",
      "800/800 [==============================] - 1s 962us/step - loss: 0.4180 - accuracy: 0.8239\n",
      "Epoch 5/100\n",
      "800/800 [==============================] - 1s 934us/step - loss: 0.4157 - accuracy: 0.8257\n",
      "Epoch 6/100\n",
      "800/800 [==============================] - 1s 974us/step - loss: 0.4143 - accuracy: 0.8301\n",
      "Epoch 7/100\n",
      "800/800 [==============================] - 1s 979us/step - loss: 0.4130 - accuracy: 0.8340\n",
      "Epoch 8/100\n",
      "800/800 [==============================] - 1s 956us/step - loss: 0.4121 - accuracy: 0.8313\n",
      "Epoch 9/100\n",
      "800/800 [==============================] - 1s 992us/step - loss: 0.4105 - accuracy: 0.8311\n",
      "Epoch 10/100\n",
      "800/800 [==============================] - 1s 1ms/step - loss: 0.4099 - accuracy: 0.8331\n",
      "Epoch 11/100\n",
      "800/800 [==============================] - 1s 1ms/step - loss: 0.4094 - accuracy: 0.8340\n",
      "Epoch 12/100\n",
      "800/800 [==============================] - 1s 904us/step - loss: 0.4084 - accuracy: 0.8339\n",
      "Epoch 13/100\n",
      "800/800 [==============================] - 1s 885us/step - loss: 0.4081 - accuracy: 0.8332\n",
      "Epoch 14/100\n",
      "800/800 [==============================] - 1s 964us/step - loss: 0.4074 - accuracy: 0.8342\n",
      "Epoch 15/100\n",
      "800/800 [==============================] - 1s 924us/step - loss: 0.4067 - accuracy: 0.8344\n",
      "Epoch 16/100\n",
      "800/800 [==============================] - 1s 921us/step - loss: 0.4064 - accuracy: 0.8344\n",
      "Epoch 17/100\n",
      "800/800 [==============================] - 1s 891us/step - loss: 0.4063 - accuracy: 0.8345\n",
      "Epoch 18/100\n",
      "800/800 [==============================] - 1s 887us/step - loss: 0.4051 - accuracy: 0.8346\n",
      "Epoch 19/100\n",
      "800/800 [==============================] - 1s 948us/step - loss: 0.4047 - accuracy: 0.8350\n",
      "Epoch 20/100\n",
      "800/800 [==============================] - 1s 920us/step - loss: 0.4051 - accuracy: 0.8329\n",
      "Epoch 21/100\n",
      "800/800 [==============================] - 1s 914us/step - loss: 0.4042 - accuracy: 0.8364\n",
      "Epoch 22/100\n",
      "800/800 [==============================] - 1s 888us/step - loss: 0.4037 - accuracy: 0.8359\n",
      "Epoch 23/100\n",
      "800/800 [==============================] - 1s 857us/step - loss: 0.4042 - accuracy: 0.8315\n",
      "Epoch 24/100\n",
      "800/800 [==============================] - 1s 904us/step - loss: 0.4037 - accuracy: 0.8356\n",
      "Epoch 25/100\n",
      "800/800 [==============================] - 1s 956us/step - loss: 0.4037 - accuracy: 0.8335\n",
      "Epoch 26/100\n",
      "800/800 [==============================] - 1s 1ms/step - loss: 0.4035 - accuracy: 0.8349\n",
      "Epoch 27/100\n",
      "800/800 [==============================] - 1s 1ms/step - loss: 0.4031 - accuracy: 0.8353\n",
      "Epoch 28/100\n",
      "800/800 [==============================] - 1s 1ms/step - loss: 0.4026 - accuracy: 0.8345\n",
      "Epoch 29/100\n",
      "800/800 [==============================] - 1s 1ms/step - loss: 0.4027 - accuracy: 0.8346\n",
      "Epoch 30/100\n",
      "800/800 [==============================] - 1s 1ms/step - loss: 0.4026 - accuracy: 0.8359\n",
      "Epoch 31/100\n",
      "800/800 [==============================] - 1s 1ms/step - loss: 0.4025 - accuracy: 0.8344\n",
      "Epoch 32/100\n",
      "800/800 [==============================] - 1s 1ms/step - loss: 0.4025 - accuracy: 0.8355\n",
      "Epoch 33/100\n",
      "800/800 [==============================] - 1s 984us/step - loss: 0.4020 - accuracy: 0.8363\n",
      "Epoch 34/100\n",
      "800/800 [==============================] - 1s 1ms/step - loss: 0.4021 - accuracy: 0.8330\n",
      "Epoch 35/100\n",
      "800/800 [==============================] - 1s 1ms/step - loss: 0.4016 - accuracy: 0.8355\n",
      "Epoch 36/100\n",
      "800/800 [==============================] - 1s 1ms/step - loss: 0.4017 - accuracy: 0.8354\n",
      "Epoch 37/100\n",
      "800/800 [==============================] - 1s 1ms/step - loss: 0.4020 - accuracy: 0.8346\n",
      "Epoch 38/100\n",
      "800/800 [==============================] - 1s 998us/step - loss: 0.4020 - accuracy: 0.8353\n",
      "Epoch 39/100\n",
      "800/800 [==============================] - 1s 984us/step - loss: 0.4015 - accuracy: 0.8361\n",
      "Epoch 40/100\n",
      "800/800 [==============================] - 1s 980us/step - loss: 0.4015 - accuracy: 0.8351\n",
      "Epoch 41/100\n",
      "800/800 [==============================] - 1s 988us/step - loss: 0.4015 - accuracy: 0.8364\n",
      "Epoch 42/100\n",
      "800/800 [==============================] - 1s 1ms/step - loss: 0.4015 - accuracy: 0.8353\n",
      "Epoch 43/100\n",
      "800/800 [==============================] - 1s 1ms/step - loss: 0.4014 - accuracy: 0.8350\n",
      "Epoch 44/100\n",
      "800/800 [==============================] - 1s 970us/step - loss: 0.4015 - accuracy: 0.8359\n",
      "Epoch 45/100\n",
      "800/800 [==============================] - 1s 929us/step - loss: 0.4014 - accuracy: 0.8334\n",
      "Epoch 46/100\n",
      "800/800 [==============================] - 1s 947us/step - loss: 0.4010 - accuracy: 0.8351\n",
      "Epoch 47/100\n",
      "800/800 [==============================] - 1s 933us/step - loss: 0.4010 - accuracy: 0.8355\n",
      "Epoch 48/100\n",
      "800/800 [==============================] - 1s 941us/step - loss: 0.4001 - accuracy: 0.8334\n",
      "Epoch 49/100\n",
      "800/800 [==============================] - 1s 945us/step - loss: 0.4013 - accuracy: 0.8339\n",
      "Epoch 50/100\n",
      "800/800 [==============================] - 1s 938us/step - loss: 0.4008 - accuracy: 0.8353\n",
      "Epoch 51/100\n",
      "800/800 [==============================] - 1s 941us/step - loss: 0.4012 - accuracy: 0.8361\n",
      "Epoch 52/100\n",
      "800/800 [==============================] - 1s 971us/step - loss: 0.4005 - accuracy: 0.8355\n",
      "Epoch 53/100\n",
      "800/800 [==============================] - 1s 1ms/step - loss: 0.4011 - accuracy: 0.8360\n",
      "Epoch 54/100\n",
      "800/800 [==============================] - 1s 948us/step - loss: 0.4012 - accuracy: 0.8353\n",
      "Epoch 55/100\n",
      "800/800 [==============================] - 1s 973us/step - loss: 0.4009 - accuracy: 0.8342\n",
      "Epoch 56/100\n",
      "800/800 [==============================] - 1s 985us/step - loss: 0.4006 - accuracy: 0.8346\n",
      "Epoch 57/100\n",
      "800/800 [==============================] - 1s 984us/step - loss: 0.4010 - accuracy: 0.8347\n",
      "Epoch 58/100\n",
      "800/800 [==============================] - 1s 1ms/step - loss: 0.4008 - accuracy: 0.8351\n",
      "Epoch 59/100\n",
      "800/800 [==============================] - 1s 1ms/step - loss: 0.4006 - accuracy: 0.8355\n",
      "Epoch 60/100\n",
      "800/800 [==============================] - 1s 948us/step - loss: 0.4008 - accuracy: 0.8356\n",
      "Epoch 61/100\n",
      "800/800 [==============================] - 1s 969us/step - loss: 0.4004 - accuracy: 0.8359\n",
      "Epoch 62/100\n",
      "800/800 [==============================] - 1s 956us/step - loss: 0.4007 - accuracy: 0.83500s - loss:\n",
      "Epoch 63/100\n",
      "800/800 [==============================] - 1s 1ms/step - loss: 0.4004 - accuracy: 0.8363\n",
      "Epoch 64/100\n",
      "800/800 [==============================] - 1s 1ms/step - loss: 0.4010 - accuracy: 0.8371\n",
      "Epoch 65/100\n",
      "800/800 [==============================] - 1s 2ms/step - loss: 0.4003 - accuracy: 0.8329\n",
      "Epoch 66/100\n",
      "800/800 [==============================] - 1s 1ms/step - loss: 0.3999 - accuracy: 0.8345\n",
      "Epoch 67/100\n",
      "800/800 [==============================] - 1s 1ms/step - loss: 0.4007 - accuracy: 0.8346\n",
      "Epoch 68/100\n",
      "800/800 [==============================] - 1s 1ms/step - loss: 0.4003 - accuracy: 0.8360\n",
      "Epoch 69/100\n",
      "800/800 [==============================] - 1s 963us/step - loss: 0.4004 - accuracy: 0.8340\n",
      "Epoch 70/100\n",
      "800/800 [==============================] - 1s 946us/step - loss: 0.4005 - accuracy: 0.8344\n",
      "Epoch 71/100\n",
      "800/800 [==============================] - 1s 912us/step - loss: 0.4000 - accuracy: 0.8365\n",
      "Epoch 72/100\n",
      "800/800 [==============================] - 1s 879us/step - loss: 0.4008 - accuracy: 0.8342\n",
      "Epoch 73/100\n",
      "800/800 [==============================] - 1s 885us/step - loss: 0.4001 - accuracy: 0.8360\n",
      "Epoch 74/100\n",
      "800/800 [==============================] - 1s 855us/step - loss: 0.4003 - accuracy: 0.8350\n",
      "Epoch 75/100\n",
      "800/800 [==============================] - 1s 859us/step - loss: 0.4006 - accuracy: 0.8342\n",
      "Epoch 76/100\n",
      "800/800 [==============================] - 1s 972us/step - loss: 0.4003 - accuracy: 0.8370\n",
      "Epoch 77/100\n",
      "800/800 [==============================] - 1s 864us/step - loss: 0.4009 - accuracy: 0.8345\n",
      "Epoch 78/100\n",
      "800/800 [==============================] - 1s 872us/step - loss: 0.4000 - accuracy: 0.8366\n",
      "Epoch 79/100\n",
      "800/800 [==============================] - 1s 887us/step - loss: 0.4006 - accuracy: 0.8342\n",
      "Epoch 80/100\n"
     ]
    },
    {
     "name": "stdout",
     "output_type": "stream",
     "text": [
      "800/800 [==============================] - 1s 959us/step - loss: 0.4006 - accuracy: 0.8364\n",
      "Epoch 81/100\n",
      "800/800 [==============================] - 1s 891us/step - loss: 0.4003 - accuracy: 0.8353\n",
      "Epoch 82/100\n",
      "800/800 [==============================] - 1s 940us/step - loss: 0.4007 - accuracy: 0.8342\n",
      "Epoch 83/100\n",
      "800/800 [==============================] - 1s 939us/step - loss: 0.4002 - accuracy: 0.8370\n",
      "Epoch 84/100\n",
      "800/800 [==============================] - 1s 1ms/step - loss: 0.4008 - accuracy: 0.8342\n",
      "Epoch 85/100\n",
      "800/800 [==============================] - 1s 1ms/step - loss: 0.4002 - accuracy: 0.8356\n",
      "Epoch 86/100\n",
      "800/800 [==============================] - 1s 988us/step - loss: 0.4000 - accuracy: 0.8336\n",
      "Epoch 87/100\n",
      "800/800 [==============================] - 1s 959us/step - loss: 0.4002 - accuracy: 0.8363\n",
      "Epoch 88/100\n",
      "800/800 [==============================] - 1s 878us/step - loss: 0.4002 - accuracy: 0.8334\n",
      "Epoch 89/100\n",
      "800/800 [==============================] - 1s 904us/step - loss: 0.4004 - accuracy: 0.8356\n",
      "Epoch 90/100\n",
      "800/800 [==============================] - 1s 979us/step - loss: 0.4003 - accuracy: 0.8347\n",
      "Epoch 91/100\n",
      "800/800 [==============================] - 1s 1ms/step - loss: 0.4000 - accuracy: 0.8363\n",
      "Epoch 92/100\n",
      "800/800 [==============================] - 1s 958us/step - loss: 0.4004 - accuracy: 0.8346\n",
      "Epoch 93/100\n",
      "800/800 [==============================] - 1s 917us/step - loss: 0.4001 - accuracy: 0.8363\n",
      "Epoch 94/100\n",
      "800/800 [==============================] - 1s 982us/step - loss: 0.4001 - accuracy: 0.8351\n",
      "Epoch 95/100\n",
      "800/800 [==============================] - 1s 996us/step - loss: 0.3998 - accuracy: 0.8340\n",
      "Epoch 96/100\n",
      "800/800 [==============================] - 1s 985us/step - loss: 0.4001 - accuracy: 0.8335\n",
      "Epoch 97/100\n",
      "800/800 [==============================] - 1s 1ms/step - loss: 0.4001 - accuracy: 0.8344\n",
      "Epoch 98/100\n",
      "800/800 [==============================] - 1s 940us/step - loss: 0.4001 - accuracy: 0.8342\n",
      "Epoch 99/100\n",
      "800/800 [==============================] - 1s 978us/step - loss: 0.4002 - accuracy: 0.8347\n",
      "Epoch 100/100\n",
      "800/800 [==============================] - 1s 979us/step - loss: 0.3996 - accuracy: 0.8342\n"
     ]
    },
    {
     "data": {
      "text/plain": [
       "<tensorflow.python.keras.callbacks.History at 0x21560034188>"
      ]
     },
     "execution_count": 35,
     "metadata": {},
     "output_type": "execute_result"
    }
   ],
   "source": [
    "# Fit the ANN to the Training set\n",
    "classifier.fit(X_train, y_train, batch_size = 10, epochs = 100)\n"
   ]
  },
  {
   "cell_type": "code",
   "execution_count": 36,
   "metadata": {},
   "outputs": [
    {
     "data": {
      "text/plain": [
       "array([[False],\n",
       "       [False],\n",
       "       [False],\n",
       "       ...,\n",
       "       [False],\n",
       "       [False],\n",
       "       [False]])"
      ]
     },
     "execution_count": 36,
     "metadata": {},
     "output_type": "execute_result"
    }
   ],
   "source": [
    "# Predict the Test Set Results\n",
    "y_pred = classifier.predict(X_test)\n",
    "y_pred = (y_pred > 0.5)\n",
    "y_pred"
   ]
  },
  {
   "cell_type": "code",
   "execution_count": 37,
   "metadata": {},
   "outputs": [
    {
     "name": "stdout",
     "output_type": "stream",
     "text": [
      "[[1558   37]\n",
      " [ 284  121]]\n"
     ]
    },
    {
     "data": {
      "text/plain": [
       "0.8395"
      ]
     },
     "execution_count": 37,
     "metadata": {},
     "output_type": "execute_result"
    }
   ],
   "source": [
    "# Make the Confusion Matrix\n",
    "from sklearn.metrics import confusion_matrix, accuracy_score\n",
    "cm = confusion_matrix(y_test, y_pred)\n",
    "print(cm)\n",
    "accuracy_score(y_test,y_pred)"
   ]
  }
 ],
 "metadata": {
  "kernelspec": {
   "display_name": "Python 3",
   "language": "python",
   "name": "python3"
  },
  "language_info": {
   "codemirror_mode": {
    "name": "ipython",
    "version": 3
   },
   "file_extension": ".py",
   "mimetype": "text/x-python",
   "name": "python",
   "nbconvert_exporter": "python",
   "pygments_lexer": "ipython3",
   "version": "3.7.4"
  }
 },
 "nbformat": 4,
 "nbformat_minor": 2
}
