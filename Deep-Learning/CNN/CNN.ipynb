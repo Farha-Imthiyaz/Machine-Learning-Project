{
 "cells": [
  {
   "cell_type": "code",
   "execution_count": null,
   "metadata": {},
   "outputs": [],
   "source": []
  },
  {
   "cell_type": "code",
   "execution_count": 1,
   "metadata": {},
   "outputs": [],
   "source": [
    "import keras\n",
    "from keras.datasets import mnist\n",
    "from keras.models import Sequential\n",
    "from keras.layers import Dense, Dropout, Flatten\n",
    "from keras.layers import Conv2D, MaxPooling2D\n",
    "import numpy as np"
   ]
  },
  {
   "cell_type": "code",
   "execution_count": 2,
   "metadata": {},
   "outputs": [
    {
     "name": "stdout",
     "output_type": "stream",
     "text": [
      "Downloading data from https://storage.googleapis.com/tensorflow/tf-keras-datasets/mnist.npz\n",
      "11493376/11490434 [==============================] - 10s 1us/step\n",
      "x_train shape: (60000, 28, 28, 1)\n",
      "60000 train samples\n",
      "10000 test samples\n"
     ]
    }
   ],
   "source": [
    "batch_size = 128\n",
    "num_classes = 10\n",
    "epochs = 12\n",
    "\n",
    "# input image dimensions\n",
    "img_rows, img_cols = 28, 28\n",
    "\n",
    "# the data, split between train and test sets\n",
    "(x_train, y_train), (x_test, y_test) = mnist.load_data()\n",
    "\n",
    "x_train = x_train.reshape(60000,28,28,1)\n",
    "x_test = x_test.reshape(10000,28,28,1)\n",
    "\n",
    "print('x_train shape:', x_train.shape)\n",
    "print(x_train.shape[0], 'train samples')\n",
    "print(x_test.shape[0], 'test samples')\n",
    "\n",
    "# convert class vectors to binary class matrices\n",
    "y_train = keras.utils.to_categorical(y_train, num_classes)\n",
    "y_test = keras.utils.to_categorical(y_test, num_classes)"
   ]
  },
  {
   "cell_type": "code",
   "execution_count": 3,
   "metadata": {},
   "outputs": [],
   "source": [
    "model = Sequential()\n",
    "model.add(Conv2D(32, kernel_size=(3, 3),\n",
    "                 activation='relu',\n",
    "                 input_shape=(28,28,1)))\n",
    "model.add(Conv2D(64, (3, 3), activation='relu'))\n",
    "model.add(MaxPooling2D(pool_size=(2, 2)))\n",
    "model.add(Dropout(0.25))\n",
    "model.add(Flatten())\n",
    "model.add(Dense(128, activation='relu'))\n",
    "model.add(Dropout(0.5))\n",
    "model.add(Dense(num_classes, activation='softmax'))"
   ]
  },
  {
   "cell_type": "code",
   "execution_count": 4,
   "metadata": {},
   "outputs": [
    {
     "name": "stdout",
     "output_type": "stream",
     "text": [
      "Epoch 1/12\n",
      "469/469 [==============================] - 128s 274ms/step - loss: 23.9152 - accuracy: 0.1473 - val_loss: 4.6050 - val_accuracy: 0.3934\n",
      "Epoch 2/12\n",
      "469/469 [==============================] - 136s 289ms/step - loss: 10.9658 - accuracy: 0.2603 - val_loss: 1.9659 - val_accuracy: 0.5862\n",
      "Epoch 3/12\n",
      "469/469 [==============================] - 137s 292ms/step - loss: 6.0563 - accuracy: 0.3401 - val_loss: 1.2371 - val_accuracy: 0.6413\n",
      "Epoch 4/12\n",
      "469/469 [==============================] - 140s 299ms/step - loss: 3.8383 - accuracy: 0.3772 - val_loss: 1.1595 - val_accuracy: 0.6325\n",
      "Epoch 5/12\n",
      "469/469 [==============================] - 127s 271ms/step - loss: 2.7735 - accuracy: 0.3902 - val_loss: 1.2862 - val_accuracy: 0.5968\n",
      "Epoch 6/12\n",
      "469/469 [==============================] - 126s 269ms/step - loss: 2.2960 - accuracy: 0.3908 - val_loss: 1.3646 - val_accuracy: 0.5828\n",
      "Epoch 7/12\n",
      "469/469 [==============================] - 116s 248ms/step - loss: 2.0498 - accuracy: 0.4008 - val_loss: 1.3784 - val_accuracy: 0.5889\n",
      "Epoch 8/12\n",
      "469/469 [==============================] - 112s 239ms/step - loss: 1.9078 - accuracy: 0.4191 - val_loss: 1.3453 - val_accuracy: 0.6069\n",
      "Epoch 9/12\n",
      "469/469 [==============================] - 115s 244ms/step - loss: 1.8148 - accuracy: 0.4370 - val_loss: 1.2801 - val_accuracy: 0.6389\n",
      "Epoch 10/12\n",
      "469/469 [==============================] - 109s 233ms/step - loss: 1.7295 - accuracy: 0.4563 - val_loss: 1.2043 - val_accuracy: 0.6671\n",
      "Epoch 11/12\n",
      "469/469 [==============================] - 111s 236ms/step - loss: 1.6662 - accuracy: 0.4754 - val_loss: 1.1347 - val_accuracy: 0.6902\n",
      "Epoch 12/12\n",
      "469/469 [==============================] - 114s 243ms/step - loss: 1.6046 - accuracy: 0.4932 - val_loss: 1.0592 - val_accuracy: 0.7123\n",
      "Test loss: 1.0591925382614136\n",
      "Test accuracy: 0.7123000025749207\n"
     ]
    }
   ],
   "source": [
    "model.compile(loss=keras.losses.categorical_crossentropy,\n",
    "              optimizer=keras.optimizers.Adadelta(),\n",
    "              metrics=['accuracy'])\n",
    "\n",
    "model.fit(x_train, y_train,\n",
    "          batch_size=batch_size,\n",
    "          epochs=epochs,\n",
    "          verbose=1,\n",
    "          validation_data=(x_test, y_test))\n",
    "score = model.evaluate(x_test, y_test, verbose=0)\n",
    "print('Test loss:', score[0])\n",
    "print('Test accuracy:', score[1])"
   ]
  }
 ],
 "metadata": {
  "kernelspec": {
   "display_name": "Python 3",
   "language": "python",
   "name": "python3"
  },
  "language_info": {
   "codemirror_mode": {
    "name": "ipython",
    "version": 3
   },
   "file_extension": ".py",
   "mimetype": "text/x-python",
   "name": "python",
   "nbconvert_exporter": "python",
   "pygments_lexer": "ipython3",
   "version": "3.7.4"
  }
 },
 "nbformat": 4,
 "nbformat_minor": 2
}
