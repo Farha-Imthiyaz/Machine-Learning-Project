{
 "cells": [
  {
   "cell_type": "markdown",
   "metadata": {
    "id": "hX4n9TsbGw-f"
   },
   "source": [
    "##### Copyright 2018 The TensorFlow Authors."
   ]
  },
  {
   "cell_type": "code",
   "execution_count": null,
   "metadata": {
    "cellView": "form",
    "id": "0nbI5DtDGw-i"
   },
   "outputs": [],
   "source": [
    "#@title Licensed under the Apache License, Version 2.0 (the \"License\");\n",
    "# you may not use this file except in compliance with the License.\n",
    "# You may obtain a copy of the License at\n",
    "#\n",
    "# https://www.apache.org/licenses/LICENSE-2.0\n",
    "#\n",
    "# Unless required by applicable law or agreed to in writing, software\n",
    "# distributed under the License is distributed on an \"AS IS\" BASIS,\n",
    "# WITHOUT WARRANTIES OR CONDITIONS OF ANY KIND, either express or implied.\n",
    "# See the License for the specific language governing permissions and\n",
    "# limitations under the License."
   ]
  },
  {
   "cell_type": "markdown",
   "metadata": {
    "id": "9TnJztDZGw-n"
   },
   "source": [
    "# Text classification with an RNN"
   ]
  },
  {
   "cell_type": "markdown",
   "metadata": {
    "id": "AfN3bMR5Gw-o"
   },
   "source": [
    "<table class=\"tfo-notebook-buttons\" align=\"left\">\n",
    "  <td>\n",
    "    <a target=\"_blank\" href=\"https://www.tensorflow.org/tutorials/text/text_classification_rnn\"><img src=\"https://www.tensorflow.org/images/tf_logo_32px.png\" />View on TensorFlow.org</a>\n",
    "  </td>\n",
    "  <td>\n",
    "    <a target=\"_blank\" href=\"https://colab.research.google.com/github/tensorflow/docs/blob/master/site/en/tutorials/text/text_classification_rnn.ipynb\"><img src=\"https://www.tensorflow.org/images/colab_logo_32px.png\" />Run in Google Colab</a>\n",
    "  </td>\n",
    "  <td>\n",
    "    <a target=\"_blank\" href=\"https://github.com/tensorflow/docs/blob/master/site/en/tutorials/text/text_classification_rnn.ipynb\"><img src=\"https://www.tensorflow.org/images/GitHub-Mark-32px.png\" />View source on GitHub</a>\n",
    "  </td>\n",
    "  <td>\n",
    "    <a href=\"https://storage.googleapis.com/tensorflow_docs/docs/site/en/tutorials/text/text_classification_rnn.ipynb\"><img src=\"https://www.tensorflow.org/images/download_logo_32px.png\" />Download notebook</a>\n",
    "  </td>\n",
    "</table>"
   ]
  },
  {
   "cell_type": "markdown",
   "metadata": {
    "id": "lUWearf0Gw-p"
   },
   "source": [
    "This text classification tutorial trains a [recurrent neural network](https://developers.google.com/machine-learning/glossary/#recurrent_neural_network) on the [IMDB large movie review dataset](http://ai.stanford.edu/~amaas/data/sentiment/) for sentiment analysis."
   ]
  },
  {
   "cell_type": "markdown",
   "metadata": {
    "id": "_2VQo4bajwUU"
   },
   "source": [
    "## Setup"
   ]
  },
  {
   "cell_type": "code",
   "execution_count": 1,
   "metadata": {
    "id": "vH_FAfIz5dEw"
   },
   "outputs": [
    {
     "name": "stderr",
     "output_type": "stream",
     "text": [
      "WARNING: Retrying (Retry(total=4, connect=None, read=None, redirect=None, status=None)) after connection broken by 'NewConnectionError('<pip._vendor.urllib3.connection.HTTPSConnection object at 0x0000021A67F6CCA0>: Failed to establish a new connection: [Errno 11001] getaddrinfo failed')': /simple/tensorflow-datasets/\n",
      "WARNING: Retrying (Retry(total=3, connect=None, read=None, redirect=None, status=None)) after connection broken by 'NewConnectionError('<pip._vendor.urllib3.connection.HTTPSConnection object at 0x0000021A67F6C9A0>: Failed to establish a new connection: [Errno 11001] getaddrinfo failed')': /simple/tensorflow-datasets/\n",
      "WARNING: Retrying (Retry(total=2, connect=None, read=None, redirect=None, status=None)) after connection broken by 'NewConnectionError('<pip._vendor.urllib3.connection.HTTPSConnection object at 0x0000021A67F6C7C0>: Failed to establish a new connection: [Errno 11001] getaddrinfo failed')': /simple/tensorflow-datasets/\n",
      "WARNING: Retrying (Retry(total=1, connect=None, read=None, redirect=None, status=None)) after connection broken by 'NewConnectionError('<pip._vendor.urllib3.connection.HTTPSConnection object at 0x0000021A67F6C490>: Failed to establish a new connection: [Errno 11001] getaddrinfo failed')': /simple/tensorflow-datasets/\n",
      "WARNING: Retrying (Retry(total=0, connect=None, read=None, redirect=None, status=None)) after connection broken by 'NewConnectionError('<pip._vendor.urllib3.connection.HTTPSConnection object at 0x0000021A67F7A430>: Failed to establish a new connection: [Errno 11001] getaddrinfo failed')': /simple/tensorflow-datasets/\n",
      "ERROR: Could not find a version that satisfies the requirement tensorflow_datasets\n",
      "ERROR: No matching distribution found for tensorflow_datasets\n"
     ]
    }
   ],
   "source": [
    "!pip install -q tensorflow_datasets"
   ]
  },
  {
   "cell_type": "code",
   "execution_count": null,
   "metadata": {
    "id": "z682XYsrjkY9"
   },
   "outputs": [],
   "source": [
    "import numpy as np\n",
    "\n",
    "import tensorflow_datasets as tfds\n",
    "import tensorflow as tf\n",
    "import warnings\n",
    "warnings.filterwarnings('ignore')\n",
    "\n",
    "tfds.disable_progress_bar()"
   ]
  },
  {
   "cell_type": "markdown",
   "metadata": {
    "id": "1rXHa-w9JZhb"
   },
   "source": [
    "Import `matplotlib` and create a helper function to plot graphs:"
   ]
  },
  {
   "cell_type": "code",
   "execution_count": null,
   "metadata": {
    "id": "Mp1Z7P9pYRSK"
   },
   "outputs": [],
   "source": [
    "import matplotlib.pyplot as plt\n",
    "\n",
    "def plot_graphs(history, metric):\n",
    "  plt.plot(history.history[metric])\n",
    "  plt.plot(history.history['val_'+metric], '')\n",
    "  plt.xlabel(\"Epochs\")\n",
    "  plt.ylabel(metric)\n",
    "  plt.legend([metric, 'val_'+metric])"
   ]
  },
  {
   "cell_type": "markdown",
   "metadata": {
    "id": "pRmMubr0jrE2"
   },
   "source": [
    "## Setup input pipeline\n",
    "\n",
    "\n",
    "The IMDB large movie review dataset is a *binary classification* dataset—all the reviews have either a *positive* or *negative* sentiment.\n",
    "\n",
    "Download the dataset using [TFDS](https://www.tensorflow.org/datasets). See the [loading text tutorial](../load_data/text.ipynb) for details on how to load this sort of data manually.\n"
   ]
  },
  {
   "cell_type": "code",
   "execution_count": null,
   "metadata": {
    "colab": {
     "base_uri": "https://localhost:8080/"
    },
    "id": "SHRwRoP2nVHX",
    "outputId": "475014bc-95fd-49ae-a65e-37720e112614"
   },
   "outputs": [
    {
     "name": "stdout",
     "output_type": "stream",
     "text": [
      "\u001b[1mDownloading and preparing dataset imdb_reviews/plain_text/1.0.0 (download: 80.23 MiB, generated: Unknown size, total: 80.23 MiB) to /root/tensorflow_datasets/imdb_reviews/plain_text/1.0.0...\u001b[0m\n",
      "Shuffling and writing examples to /root/tensorflow_datasets/imdb_reviews/plain_text/1.0.0.incompleteNT2Z8S/imdb_reviews-train.tfrecord\n",
      "Shuffling and writing examples to /root/tensorflow_datasets/imdb_reviews/plain_text/1.0.0.incompleteNT2Z8S/imdb_reviews-test.tfrecord\n"
     ]
    },
    {
     "name": "stderr",
     "output_type": "stream",
     "text": [
      "WARNING:absl:Dataset is using deprecated text encoder API which will be removed soon. Please use the plain_text version of the dataset and migrate to `tensorflow_text`.\n"
     ]
    },
    {
     "name": "stdout",
     "output_type": "stream",
     "text": [
      "Shuffling and writing examples to /root/tensorflow_datasets/imdb_reviews/plain_text/1.0.0.incompleteNT2Z8S/imdb_reviews-unsupervised.tfrecord\n",
      "\u001b[1mDataset imdb_reviews downloaded and prepared to /root/tensorflow_datasets/imdb_reviews/plain_text/1.0.0. Subsequent calls will reuse this data.\u001b[0m\n"
     ]
    },
    {
     "data": {
      "text/plain": [
       "(TensorSpec(shape=(), dtype=tf.string, name=None),\n",
       " TensorSpec(shape=(), dtype=tf.int64, name=None))"
      ]
     },
     "execution_count": 5,
     "metadata": {
      "tags": []
     },
     "output_type": "execute_result"
    }
   ],
   "source": [
    "dataset, info = tfds.load('imdb_reviews', with_info=True,\n",
    "                          as_supervised=True)\n",
    "train_dataset, test_dataset = dataset['train'], dataset['test']\n",
    "\n",
    "train_dataset.element_spec"
   ]
  },
  {
   "cell_type": "markdown",
   "metadata": {
    "id": "nWA4c2ir7g6p"
   },
   "source": [
    "Initially this returns a dataset of (text, label pairs):"
   ]
  },
  {
   "cell_type": "code",
   "execution_count": null,
   "metadata": {
    "colab": {
     "base_uri": "https://localhost:8080/"
    },
    "id": "vd4_BGKyurao",
    "outputId": "7c58053f-c2f9-4896-ccfb-61f325062bff"
   },
   "outputs": [
    {
     "name": "stdout",
     "output_type": "stream",
     "text": [
      "text:  b\"This was an absolutely terrible movie. Don't be lured in by Christopher Walken or Michael Ironside. Both are great actors, but this must simply be their worst role in history. Even their great acting could not redeem this movie's ridiculous storyline. This movie is an early nineties US propaganda piece. The most pathetic scenes were those when the Columbian rebels were making their cases for revolutions. Maria Conchita Alonso appeared phony, and her pseudo-love affair with Walken was nothing but a pathetic emotional plug in a movie that was devoid of any real meaning. I am disappointed that there are movies like this, ruining actor's like Christopher Walken's good name. I could barely sit through it.\"\n",
      "label:  0\n"
     ]
    }
   ],
   "source": [
    "for example, label in train_dataset.take(1):\n",
    "  print('text: ', example.numpy())\n",
    "  print('label: ', label.numpy())"
   ]
  },
  {
   "cell_type": "markdown",
   "metadata": {
    "id": "z2qVJzcEluH_"
   },
   "source": [
    "Next shuffle the data for training and create batches of these `(text, label)` pairs:"
   ]
  },
  {
   "cell_type": "code",
   "execution_count": null,
   "metadata": {
    "id": "dDsCaZCDYZgm"
   },
   "outputs": [],
   "source": [
    "BUFFER_SIZE = 10000\n",
    "BATCH_SIZE = 64"
   ]
  },
  {
   "cell_type": "code",
   "execution_count": null,
   "metadata": {
    "id": "VznrltNOnUc5"
   },
   "outputs": [],
   "source": [
    "train_dataset = train_dataset.shuffle(BUFFER_SIZE).batch(BATCH_SIZE).prefetch(tf.data.AUTOTUNE)\n",
    "test_dataset = test_dataset.batch(BATCH_SIZE).prefetch(tf.data.AUTOTUNE)"
   ]
  },
  {
   "cell_type": "code",
   "execution_count": null,
   "metadata": {
    "colab": {
     "base_uri": "https://localhost:8080/"
    },
    "id": "jqkvdcFv41wC",
    "outputId": "3e13460a-f145-4e9c-c97a-8c557d8ad154"
   },
   "outputs": [
    {
     "name": "stdout",
     "output_type": "stream",
     "text": [
      "texts:  [b'This movie is just like every other dutch movie, so if you enjoy movies such as turks fruit and de kleine blonde dood. then you might be okay with this one (even though those two have much better stories and actors) Zomerhitte starts strong enough, but even that one good scene ends up having nothing to do with the storyline. There\\'s a lot of nudity (but me and others just could not find that girl attractive), the dialog is laughable (as we did a lot to the annoyance of other movie watchers), and some of the scenes are so completely random that this is more of an unintentional comedy than anything else (like a random scene in which an owl rips somebody\\'s eye out...it has nothing to do with anything and is only referenced once later in a sentence saying \"did you hear what happened...I was there\"). the only reason I gave it a 2 is because some of the places they are at look nice...that\\'s it. And the reason I saw it was because we went to the sneak preview (here in Holland we have a strange system regarding sneak previews, you pay less money then for a regular movie and you don\\'t know what movie it is that you will be watching. All you know is that it\\'s a new movie that\\'s not yet in the theaters). My advice is to stay far away from this film, if you really want to see a good dutch movie watch temmink or zwartboek.'\n",
      " b'This is the only film I\\'ve seen that is made by Uwe Boll, I knew that he is probably the worst director ever who always makes films based on video games also that \"House of the Dead\" is one of IMDb bottom 100. But I still wanted to watch it because I\\'m a huge fan of the game and I wanted to see what doe\\'s the film have that makes it so bad. After watching it I do agree that it is crap, the movie had no story. In the first 15-20 minutes there was nothing but topless teenage girls with no brains running about (for a moment there I was wondering are the zombies brain-dead? or the girls are?) then at night time the zombies popped out of nowhere & started attacking people later a woman started shooting them I mean it takes you one place then the other every 5 minutes. Is it supposed to be a comedy?, or horror? or both? Before I knew it I fell asleep at the second half & woke up during the end credits so I did not manage to watch all of it, which is a good thing! The film is a true insult to the classic game, Uwe Boll please do not make any more films. Thank you!'\n",
      " b'Saw it as many times as I could before it left the scene. A delightful and entertaining film with some of my very favorite stars. Only wish I could find it again! Would certainly buy/view it if I could. Please, somebody, bring it back. Fred MacMurray was perfect in his role as a patriot during World War II, and his leading ladies, Joan Leslie, and especially June Haver were beautiful and charming. It was a musical, but also romantic, funny, and clever. This was my favorite movie starring June Haver, although I always liked her. Her dazzling smile lit up the screen, and her beauty and talent were an asset to any film. The supporting cast lent credit to their individual roles. A well-balanced and light-hearted film; only wish we had more like it!']\n",
      "\n",
      "labels:  [0 0 1]\n"
     ]
    }
   ],
   "source": [
    "for example, label in train_dataset.take(1):\n",
    "  print('texts: ', example.numpy()[:3])\n",
    "  print()\n",
    "  print('labels: ', label.numpy()[:3])"
   ]
  },
  {
   "cell_type": "markdown",
   "metadata": {
    "id": "s5eWCo88voPY"
   },
   "source": [
    "## Create the text encoder"
   ]
  },
  {
   "cell_type": "markdown",
   "metadata": {
    "id": "TFevcItw15P_"
   },
   "source": [
    "The raw text loaded by `tfds` needs to be processed before it can be used in a model. The simplest way to process text for training is using the `experimental.preprocessing.TextVectorization` layer. This layer has many capabilities, but this tutorial sticks to the default behavior.\n",
    "\n",
    "Create the layer, and pass the dataset's text to the layer's `.adapt` method:"
   ]
  },
  {
   "cell_type": "code",
   "execution_count": null,
   "metadata": {
    "id": "uC25Lu1Yvuqy"
   },
   "outputs": [],
   "source": [
    "VOCAB_SIZE=1000\n",
    "encoder = tf.keras.layers.experimental.preprocessing.TextVectorization(\n",
    "    max_tokens=VOCAB_SIZE)\n",
    "encoder.adapt(train_dataset.map(lambda text, label: text))"
   ]
  },
  {
   "cell_type": "markdown",
   "metadata": {
    "id": "IuQzVBbe3Ldu"
   },
   "source": [
    "The `.adapt` method sets the layer's vocabulary. Here are the first 20 tokens. After the padding and unknown tokens they're sorted by frequency: "
   ]
  },
  {
   "cell_type": "code",
   "execution_count": null,
   "metadata": {
    "colab": {
     "base_uri": "https://localhost:8080/"
    },
    "id": "tBoyjjWg0Ac9",
    "outputId": "0ec70e2f-51c5-4de5-d1fb-72c0558251cb"
   },
   "outputs": [
    {
     "data": {
      "text/plain": [
       "array(['', '[UNK]', 'the', 'and', 'a', 'of', 'to', 'is', 'in', 'it', 'i',\n",
       "       'this', 'that', 'br', 'was', 'as', 'for', 'with', 'movie', 'but'],\n",
       "      dtype='<U14')"
      ]
     },
     "execution_count": 11,
     "metadata": {
      "tags": []
     },
     "output_type": "execute_result"
    }
   ],
   "source": [
    "vocab = np.array(encoder.get_vocabulary())\n",
    "vocab[:20]"
   ]
  },
  {
   "cell_type": "markdown",
   "metadata": {
    "id": "mjId5pua3jHQ"
   },
   "source": [
    "Once the vocabulary is set, the layer can encode text into indices. The tensors of indices are 0-padded to the longest sequence in the batch (unless you set a fixed `output_sequence_length`):"
   ]
  },
  {
   "cell_type": "code",
   "execution_count": null,
   "metadata": {
    "colab": {
     "base_uri": "https://localhost:8080/"
    },
    "id": "RGc7C9WiwRWs",
    "outputId": "07888b96-45bb-4317-d846-6c7bef70ec3c"
   },
   "outputs": [
    {
     "data": {
      "text/plain": [
       "array([[ 11,  18,   7, ...,   0,   0,   0],\n",
       "       [ 11,   7,   2, ...,   0,   0,   0],\n",
       "       [208,   9,  15, ...,   0,   0,   0]])"
      ]
     },
     "execution_count": 12,
     "metadata": {
      "tags": []
     },
     "output_type": "execute_result"
    }
   ],
   "source": [
    "encoded_example = encoder(example)[:3].numpy()\n",
    "encoded_example"
   ]
  },
  {
   "cell_type": "markdown",
   "metadata": {
    "id": "F5cjz0bS39IN"
   },
   "source": [
    "With the default settings, the process is not completely reversible. There are three main reasons for that:\n",
    "\n",
    "1. The default value for `preprocessing.TextVectorization`'s `standardize` argument is `\"lower_and_strip_punctuation\"`.\n",
    "2. The limited vocabulary size and lack of character-based fallback results in some unknown tokens."
   ]
  },
  {
   "cell_type": "code",
   "execution_count": null,
   "metadata": {
    "colab": {
     "base_uri": "https://localhost:8080/"
    },
    "id": "N_tD0QY5wXaK",
    "outputId": "3d101598-dcae-4123-9cbc-67c900917804"
   },
   "outputs": [
    {
     "name": "stdout",
     "output_type": "stream",
     "text": [
      "Original:  b'This movie is just like every other dutch movie, so if you enjoy movies such as turks fruit and de kleine blonde dood. then you might be okay with this one (even though those two have much better stories and actors) Zomerhitte starts strong enough, but even that one good scene ends up having nothing to do with the storyline. There\\'s a lot of nudity (but me and others just could not find that girl attractive), the dialog is laughable (as we did a lot to the annoyance of other movie watchers), and some of the scenes are so completely random that this is more of an unintentional comedy than anything else (like a random scene in which an owl rips somebody\\'s eye out...it has nothing to do with anything and is only referenced once later in a sentence saying \"did you hear what happened...I was there\"). the only reason I gave it a 2 is because some of the places they are at look nice...that\\'s it. And the reason I saw it was because we went to the sneak preview (here in Holland we have a strange system regarding sneak previews, you pay less money then for a regular movie and you don\\'t know what movie it is that you will be watching. All you know is that it\\'s a new movie that\\'s not yet in the theaters). My advice is to stay far away from this film, if you really want to see a good dutch movie watch temmink or zwartboek.'\n",
      "Round-trip:  this movie is just like every other [UNK] movie so if you enjoy movies such as [UNK] [UNK] and de [UNK] [UNK] [UNK] then you might be okay with this one even though those two have much better stories and actors [UNK] starts strong enough but even that one good scene ends up having nothing to do with the storyline theres a lot of [UNK] but me and others just could not find that girl [UNK] the dialog is [UNK] as we did a lot to the [UNK] of other movie [UNK] and some of the scenes are so completely [UNK] that this is more of an [UNK] comedy than anything else like a [UNK] scene in which an [UNK] [UNK] [UNK] eye [UNK] has nothing to do with anything and is only [UNK] once later in a [UNK] saying did you hear what [UNK] was there the only reason i gave it a 2 is because some of the [UNK] they are at look [UNK] it and the reason i saw it was because we went to the [UNK] [UNK] here in [UNK] we have a strange [UNK] [UNK] [UNK] [UNK] you pay less money then for a [UNK] movie and you dont know what movie it is that you will be watching all you know is that its a new movie thats not yet in the [UNK] my [UNK] is to stay far away from this film if you really want to see a good [UNK] movie watch [UNK] or [UNK]                                                                                                                                                                                                                                                                                                                                                                                                                                                                                                                                                      \n",
      "\n",
      "Original:  b'This is the only film I\\'ve seen that is made by Uwe Boll, I knew that he is probably the worst director ever who always makes films based on video games also that \"House of the Dead\" is one of IMDb bottom 100. But I still wanted to watch it because I\\'m a huge fan of the game and I wanted to see what doe\\'s the film have that makes it so bad. After watching it I do agree that it is crap, the movie had no story. In the first 15-20 minutes there was nothing but topless teenage girls with no brains running about (for a moment there I was wondering are the zombies brain-dead? or the girls are?) then at night time the zombies popped out of nowhere & started attacking people later a woman started shooting them I mean it takes you one place then the other every 5 minutes. Is it supposed to be a comedy?, or horror? or both? Before I knew it I fell asleep at the second half & woke up during the end credits so I did not manage to watch all of it, which is a good thing! The film is a true insult to the classic game, Uwe Boll please do not make any more films. Thank you!'\n",
      "Round-trip:  this is the only film ive seen that is made by [UNK] [UNK] i knew that he is probably the worst director ever who always makes films based on video [UNK] also that house of the dead is one of imdb [UNK] [UNK] but i still wanted to watch it because im a huge fan of the game and i wanted to see what does the film have that makes it so bad after watching it i do [UNK] that it is crap the movie had no story in the first [UNK] minutes there was nothing but [UNK] [UNK] girls with no [UNK] running about for a moment there i was [UNK] are the [UNK] [UNK] or the girls are then at night time the [UNK] [UNK] out of [UNK] started [UNK] people later a woman started [UNK] them i mean it takes you one place then the other every 5 minutes is it supposed to be a comedy or horror or both before i knew it i [UNK] [UNK] at the second half [UNK] up during the end credits so i did not [UNK] to watch all of it which is a good thing the film is a true [UNK] to the classic game [UNK] [UNK] please do not make any more films [UNK] you                                                                                                                                                                                                                                                                                                                                                                                                                                                                                                                                                                                           \n",
      "\n",
      "Original:  b'Saw it as many times as I could before it left the scene. A delightful and entertaining film with some of my very favorite stars. Only wish I could find it again! Would certainly buy/view it if I could. Please, somebody, bring it back. Fred MacMurray was perfect in his role as a patriot during World War II, and his leading ladies, Joan Leslie, and especially June Haver were beautiful and charming. It was a musical, but also romantic, funny, and clever. This was my favorite movie starring June Haver, although I always liked her. Her dazzling smile lit up the screen, and her beauty and talent were an asset to any film. The supporting cast lent credit to their individual roles. A well-balanced and light-hearted film; only wish we had more like it!'\n",
      "Round-trip:  saw it as many times as i could before it left the scene a [UNK] and entertaining film with some of my very favorite stars only wish i could find it again would certainly [UNK] it if i could please [UNK] bring it back [UNK] [UNK] was perfect in his role as a [UNK] during world war [UNK] and his leading [UNK] [UNK] [UNK] and especially [UNK] [UNK] were beautiful and [UNK] it was a musical but also romantic funny and [UNK] this was my favorite movie [UNK] [UNK] [UNK] although i always liked her her [UNK] [UNK] [UNK] up the screen and her beauty and talent were an [UNK] to any film the supporting cast [UNK] [UNK] to their [UNK] roles a [UNK] and [UNK] film only wish we had more like it                                                                                                                                                                                                                                                                                                                                                                                                                                                                                                                                                                                                                                                                             \n",
      "\n"
     ]
    }
   ],
   "source": [
    "for n in range(3):\n",
    "  print(\"Original: \", example[n].numpy())\n",
    "  print(\"Round-trip: \", \" \".join(vocab[encoded_example[n]]))\n",
    "  print()"
   ]
  },
  {
   "cell_type": "markdown",
   "metadata": {
    "id": "bjUqGVBxGw-t"
   },
   "source": [
    "## Create the model"
   ]
  },
  {
   "cell_type": "markdown",
   "metadata": {
    "id": "W7zsmInBOCPO"
   },
   "source": [
    "![A drawing of the information flow in the model](https://github.com/tensorflow/docs/blob/master/site/en/tutorials/text/images/bidirectional.png?raw=1)"
   ]
  },
  {
   "cell_type": "markdown",
   "metadata": {
    "id": "bgs6nnSTGw-t"
   },
   "source": [
    "Above is a diagram of the model. \n",
    "\n",
    "1. This model can be build as a `tf.keras.Sequential`.\n",
    "\n",
    "1. The first layer is the `encoder`, which converts the text to a sequence of token indices.\n",
    "\n",
    "2. After the encoder is an embedding layer. An embedding layer stores one vector per word. When called, it converts the sequences of word indices to sequences of vectors. These vectors are trainable. After training (on enough data), words with similar meanings often have similar vectors.\n",
    "\n",
    "  This index-lookup is much more efficient than the equivalent operation of passing a one-hot encoded vector through a `tf.keras.layers.Dense` layer.\n",
    "\n",
    "3. A recurrent neural network (RNN) processes sequence input by iterating through the elements. RNNs pass the outputs from one timestep to their input on the next timestep.\n",
    "\n",
    "  The `tf.keras.layers.Bidirectional` wrapper can also be used with an RNN layer. This propagates the input forward and backwards through the RNN layer and then concatenates the final output. \n",
    "\n",
    "  * The main advantage to a bidirectional RNN is that the signal from the beginning of the input doesn't need to be processed all the way through every timestep to affect the output.  \n",
    "\n",
    "  * The main disadvantage of a bidirectional RNN is that you can't efficiently stream predictions as words are being added to the end.\n",
    "\n",
    "1. After the RNN has converted the sequence to a single vector the two `layers.Dense` do some final processing, and convert from this vector representation to a single logit as the classification output. \n"
   ]
  },
  {
   "cell_type": "markdown",
   "metadata": {
    "id": "V4fodCI7soQi"
   },
   "source": [
    "The code to implement this is below:"
   ]
  },
  {
   "cell_type": "code",
   "execution_count": null,
   "metadata": {
    "id": "LwfoBkmRYcP3"
   },
   "outputs": [],
   "source": [
    "model = tf.keras.Sequential([\n",
    "    encoder,\n",
    "    tf.keras.layers.Embedding(\n",
    "        input_dim=len(encoder.get_vocabulary()),\n",
    "        output_dim=64,\n",
    "        # Use masking to handle the variable sequence lengths\n",
    "        mask_zero=True),\n",
    "    tf.keras.layers.Bidirectional(tf.keras.layers.LSTM(32)),\n",
    "    tf.keras.layers.Dense(64, activation='relu'),\n",
    "    tf.keras.layers.Dense(1)\n",
    "])"
   ]
  },
  {
   "cell_type": "markdown",
   "metadata": {
    "id": "QIGmIGkkouUb"
   },
   "source": [
    "Please note that Keras sequential model is used here since all the layers in the model only have single input and produce single output. In case you want to use stateful RNN layer, you might want to build your model with Keras functional API or model subclassing so that you can retrieve and reuse the RNN layer states. Please check [Keras RNN guide](https://www.tensorflow.org/guide/keras/rnn#rnn_state_reuse) for more details."
   ]
  },
  {
   "cell_type": "markdown",
   "metadata": {
    "id": "kF-PsCk1LwjY"
   },
   "source": [
    "The embedding layer [uses masking](../../guide/keras/masking_and_padding) to handle the varying sequence-lengths. All the layers after the `Embedding` support masking:"
   ]
  },
  {
   "cell_type": "code",
   "execution_count": null,
   "metadata": {
    "id": "87a8-CwfKebw"
   },
   "outputs": [],
   "source": [
    "print([layer.supports_masking for layer in model.layers])"
   ]
  },
  {
   "cell_type": "markdown",
   "metadata": {
    "id": "ZlS0iaUIWLpI"
   },
   "source": [
    "To confirm that this works as expected, evaluate a sentence twice. First, alone so there's no padding to mask:"
   ]
  },
  {
   "cell_type": "code",
   "execution_count": null,
   "metadata": {
    "id": "O41gw3KfWHus"
   },
   "outputs": [],
   "source": [
    "# predict on a sample text without padding.\n",
    "\n",
    "sample_text = ('The movie was cool. The animation and the graphics '\n",
    "               'were out of this world. I would recommend this movie.')\n",
    "predictions = model.predict(np.array([sample_text]))\n",
    "print(predictions[0])"
   ]
  },
  {
   "cell_type": "markdown",
   "metadata": {
    "id": "K0VQmGnEWcuz"
   },
   "source": [
    "Now, evaluate it again in a batch with a longer sentence. The result should be identical:"
   ]
  },
  {
   "cell_type": "code",
   "execution_count": null,
   "metadata": {
    "id": "UIgpuTeFNDzq"
   },
   "outputs": [],
   "source": [
    "# predict on a sample text with padding\n",
    "\n",
    "padding = \"the \" * 2000\n",
    "predictions = model.predict(np.array([sample_text, padding]))\n",
    "print(predictions[0])"
   ]
  },
  {
   "cell_type": "markdown",
   "metadata": {
    "id": "sRI776ZcH3Tf"
   },
   "source": [
    "Compile the Keras model to configure the training process:"
   ]
  },
  {
   "cell_type": "code",
   "execution_count": null,
   "metadata": {
    "id": "kj2xei41YZjC"
   },
   "outputs": [],
   "source": [
    "model.compile(loss=tf.keras.losses.BinaryCrossentropy(from_logits=True),\n",
    "              optimizer=tf.keras.optimizers.Adam(1e-4),\n",
    "              metrics=['accuracy'])"
   ]
  },
  {
   "cell_type": "markdown",
   "metadata": {
    "id": "zIwH3nto596k"
   },
   "source": [
    "## Train the model"
   ]
  },
  {
   "cell_type": "code",
   "execution_count": null,
   "metadata": {
    "colab": {
     "base_uri": "https://localhost:8080/"
    },
    "id": "hw86wWS4YgR2",
    "outputId": "3ead5a2e-01ea-4f49-8362-c3139c1e563a"
   },
   "outputs": [
    {
     "name": "stdout",
     "output_type": "stream",
     "text": [
      "Epoch 1/10\n",
      "391/391 [==============================] - 45s 81ms/step - loss: 0.6904 - accuracy: 0.5036 - val_loss: 0.6076 - val_accuracy: 0.6578\n",
      "Epoch 2/10\n",
      "391/391 [==============================] - 30s 76ms/step - loss: 0.5325 - accuracy: 0.7156 - val_loss: 0.4204 - val_accuracy: 0.8000\n",
      "Epoch 3/10\n",
      "391/391 [==============================] - 30s 77ms/step - loss: 0.3788 - accuracy: 0.8316 - val_loss: 0.3722 - val_accuracy: 0.8380\n",
      "Epoch 4/10\n",
      "391/391 [==============================] - 30s 76ms/step - loss: 0.3374 - accuracy: 0.8521 - val_loss: 0.3533 - val_accuracy: 0.8458\n",
      "Epoch 5/10\n",
      "391/391 [==============================] - 30s 76ms/step - loss: 0.3204 - accuracy: 0.8619 - val_loss: 0.3495 - val_accuracy: 0.8438\n",
      "Epoch 6/10\n",
      "391/391 [==============================] - 30s 77ms/step - loss: 0.3119 - accuracy: 0.8654 - val_loss: 0.3384 - val_accuracy: 0.8583\n",
      "Epoch 7/10\n",
      "391/391 [==============================] - 30s 77ms/step - loss: 0.3131 - accuracy: 0.8635 - val_loss: 0.3277 - val_accuracy: 0.8536\n",
      "Epoch 8/10\n",
      "391/391 [==============================] - 30s 76ms/step - loss: 0.2998 - accuracy: 0.8707 - val_loss: 0.3316 - val_accuracy: 0.8562\n",
      "Epoch 9/10\n",
      "391/391 [==============================] - 30s 76ms/step - loss: 0.3042 - accuracy: 0.8691 - val_loss: 0.3237 - val_accuracy: 0.8562\n",
      "Epoch 10/10\n",
      "391/391 [==============================] - 30s 75ms/step - loss: 0.3001 - accuracy: 0.8718 - val_loss: 0.3319 - val_accuracy: 0.8422\n"
     ]
    }
   ],
   "source": [
    "history = model.fit(train_dataset, epochs=10,\n",
    "                    validation_data=test_dataset, \n",
    "                    validation_steps=30)"
   ]
  },
  {
   "cell_type": "code",
   "execution_count": null,
   "metadata": {
    "colab": {
     "base_uri": "https://localhost:8080/"
    },
    "id": "BaNbXi43YgUT",
    "outputId": "589f3d60-3fe2-4019-a9d6-0a49b4a820b0"
   },
   "outputs": [
    {
     "name": "stdout",
     "output_type": "stream",
     "text": [
      "391/391 [==============================] - 15s 38ms/step - loss: 0.3256 - accuracy: 0.8424\n",
      "Test Loss: 0.32559192180633545\n",
      "Test Accuracy: 0.8423600196838379\n"
     ]
    }
   ],
   "source": [
    "test_loss, test_acc = model.evaluate(test_dataset)\n",
    "\n",
    "print('Test Loss: {}'.format(test_loss))\n",
    "print('Test Accuracy: {}'.format(test_acc))"
   ]
  },
  {
   "cell_type": "code",
   "execution_count": null,
   "metadata": {
    "colab": {
     "base_uri": "https://localhost:8080/",
     "height": 520
    },
    "id": "OZmwt_mzaQJk",
    "outputId": "75de99ff-1038-4355-97e6-45d7eb971596"
   },
   "outputs": [
    {
     "data": {
      "text/plain": [
       "(0.0, 0.696545098721981)"
      ]
     },
     "execution_count": 19,
     "metadata": {
      "tags": []
     },
     "output_type": "execute_result"
    },
    {
     "data": {
      "image/png": "[encoded data removed]",
      "text/plain": [
       "<Figure size 1152x576 with 2 Axes>"
      ]
     },
     "metadata": {
      "needs_background": "light",
      "tags": []
     },
     "output_type": "display_data"
    }
   ],
   "source": [
    "plt.figure(figsize=(16,8))\n",
    "plt.subplot(1,2,1)\n",
    "plot_graphs(history, 'accuracy')\n",
    "plt.ylim(None,1)\n",
    "plt.subplot(1,2,2)\n",
    "plot_graphs(history, 'loss')\n",
    "plt.ylim(0,None)"
   ]
  },
  {
   "cell_type": "markdown",
   "metadata": {
    "id": "DwSE_386uhxD"
   },
   "source": [
    "Run a prediction on a new sentence:\n",
    "\n",
    "If the prediction is >= 0.0, it is positive else it is negative."
   ]
  },
  {
   "cell_type": "code",
   "execution_count": null,
   "metadata": {
    "colab": {
     "base_uri": "https://localhost:8080/"
    },
    "id": "ZXgfQSgRW6zU",
    "outputId": "9a1fecec-e7c5-43f5-99d8-9fe95517fa12"
   },
   "outputs": [
    {
     "name": "stdout",
     "output_type": "stream",
     "text": [
      "[[0.5218359]]\n"
     ]
    }
   ],
   "source": [
    "sample_text = ('The movie was cool. The animation and the graphics '\n",
    "               'were out of this world. I would recommend this movie.')\n",
    "predictions = model.predict(np.array([sample_text]))\n",
    "print(predictions)"
   ]
  },
  {
   "cell_type": "markdown",
   "metadata": {
    "id": "7g1evcaRpTKm"
   },
   "source": [
    "## Stack two or more LSTM layers\n",
    "\n",
    "Keras recurrent layers have two available modes that are controlled by the `return_sequences` constructor argument:\n",
    "\n",
    "* If `False` it returns only the last output for each input sequence (a 2D tensor of shape (batch_size, output_features)). This is the default, used in the previous model.\n",
    "\n",
    "* If `True` the full sequences of successive outputs for each timestep is returned (a 3D tensor of shape `(batch_size, timesteps, output_features)`).\n",
    "\n",
    "Here is what the flow of information looks like with `return_sequences=True`:\n",
    "\n",
    "![layered_bidirectional](https://github.com/tensorflow/docs/blob/master/site/en/tutorials/text/images/layered_bidirectional.ipynb?raw=1)"
   ]
  },
  {
   "cell_type": "markdown",
   "metadata": {
    "id": "wbSClCrG1z8l"
   },
   "source": [
    "The interesting thing about using an `RNN` with `return_sequences=True` is that the output still has 3-axes, like the input, so it can be passed to another RNN layer, like this:"
   ]
  },
  {
   "cell_type": "code",
   "execution_count": null,
   "metadata": {
    "id": "jo1jjO3vn0jo"
   },
   "outputs": [],
   "source": [
    "model = tf.keras.Sequential([\n",
    "    encoder,\n",
    "    tf.keras.layers.Embedding(len(encoder.get_vocabulary()), 64, mask_zero=True),\n",
    "    tf.keras.layers.Bidirectional(tf.keras.layers.LSTM(64,  return_sequences=True)),\n",
    "    tf.keras.layers.Bidirectional(tf.keras.layers.LSTM(32)),\n",
    "    tf.keras.layers.Dense(64, activation='relu'),\n",
    "    tf.keras.layers.Dropout(0.5),\n",
    "    tf.keras.layers.Dense(1)\n",
    "])"
   ]
  },
  {
   "cell_type": "code",
   "execution_count": null,
   "metadata": {
    "id": "hEPV5jVGp-is"
   },
   "outputs": [],
   "source": [
    "model.compile(loss=tf.keras.losses.BinaryCrossentropy(from_logits=True),\n",
    "              optimizer=tf.keras.optimizers.Adam(1e-4),\n",
    "              metrics=['accuracy'])"
   ]
  },
  {
   "cell_type": "code",
   "execution_count": null,
   "metadata": {
    "colab": {
     "base_uri": "https://localhost:8080/"
    },
    "id": "LeSE-YjdqAeN",
    "outputId": "b46824ff-9346-4789-cea7-c59f73aa7b65"
   },
   "outputs": [
    {
     "name": "stdout",
     "output_type": "stream",
     "text": [
      "Epoch 1/10\n",
      "391/391 [==============================] - 70s 143ms/step - loss: 0.6895 - accuracy: 0.5001 - val_loss: 0.4774 - val_accuracy: 0.7557\n",
      "Epoch 2/10\n",
      "391/391 [==============================] - 53s 134ms/step - loss: 0.4267 - accuracy: 0.8096 - val_loss: 0.3628 - val_accuracy: 0.8354\n",
      "Epoch 3/10\n",
      "391/391 [==============================] - 53s 135ms/step - loss: 0.3448 - accuracy: 0.8506 - val_loss: 0.3341 - val_accuracy: 0.8453\n",
      "Epoch 4/10\n",
      "391/391 [==============================] - 53s 134ms/step - loss: 0.3227 - accuracy: 0.8619 - val_loss: 0.3445 - val_accuracy: 0.8599\n",
      "Epoch 5/10\n",
      "391/391 [==============================] - 53s 135ms/step - loss: 0.3143 - accuracy: 0.8656 - val_loss: 0.3447 - val_accuracy: 0.8609\n",
      "Epoch 6/10\n",
      "391/391 [==============================] - 53s 135ms/step - loss: 0.3060 - accuracy: 0.8711 - val_loss: 0.3226 - val_accuracy: 0.8536\n",
      "Epoch 7/10\n",
      "391/391 [==============================] - 53s 135ms/step - loss: 0.3028 - accuracy: 0.8715 - val_loss: 0.3224 - val_accuracy: 0.8547\n",
      "Epoch 8/10\n",
      "391/391 [==============================] - 53s 135ms/step - loss: 0.2988 - accuracy: 0.8734 - val_loss: 0.3223 - val_accuracy: 0.8427\n",
      "Epoch 9/10\n",
      "391/391 [==============================] - 53s 134ms/step - loss: 0.3001 - accuracy: 0.8675 - val_loss: 0.3262 - val_accuracy: 0.8641\n",
      "Epoch 10/10\n",
      "391/391 [==============================] - 53s 135ms/step - loss: 0.2951 - accuracy: 0.8737 - val_loss: 0.3161 - val_accuracy: 0.8510\n"
     ]
    }
   ],
   "source": [
    "history = model.fit(train_dataset, epochs=10,\n",
    "                    validation_data=test_dataset,\n",
    "                    validation_steps=30)"
   ]
  },
  {
   "cell_type": "code",
   "execution_count": null,
   "metadata": {
    "id": "_LdwilM1qPM3"
   },
   "outputs": [],
   "source": [
    "test_loss, test_acc = model.evaluate(test_dataset)\n",
    "\n",
    "print('Test Loss: {}'.format(test_loss))\n",
    "print('Test Accuracy: {}'.format(test_acc))"
   ]
  },
  {
   "cell_type": "code",
   "execution_count": null,
   "metadata": {
    "id": "ykUKnAoqbycW"
   },
   "outputs": [],
   "source": [
    "# predict on a sample text without padding.\n",
    "\n",
    "sample_text = ('The movie was not good. The animation and the graphics '\n",
    "                    'were terrible. I would not recommend this movie.')\n",
    "predictions = model.predict(np.array([sample_text]))\n",
    "print(predictions)"
   ]
  },
  {
   "cell_type": "code",
   "execution_count": null,
   "metadata": {
    "id": "_YYub0EDtwCu"
   },
   "outputs": [],
   "source": [
    "plt.figure(figsize=(16,6))\n",
    "plt.subplot(1,2,1)\n",
    "plot_graphs(history, 'accuracy')\n",
    "plt.subplot(1,2,2)\n",
    "plot_graphs(history, 'loss')"
   ]
  },
  {
   "cell_type": "markdown",
   "metadata": {
    "id": "9xvpE3BaGw_V"
   },
   "source": [
    "Check out other existing recurrent layers such as [GRU layers](https://www.tensorflow.org/api_docs/python/tf/keras/layers/GRU).\n",
    "\n",
    "If you're interestied in building custom RNNs, see the [Keras RNN Guide](../../guide/keras/rnn.ipynb).\n"
   ]
  }
 ],
 "metadata": {
  "accelerator": "GPU",
  "colab": {
   "collapsed_sections": [],
   "name": "Copy of text_classification_rnn.ipynb",
   "provenance": []
  },
  "kernelspec": {
   "display_name": "Python 3",
   "language": "python",
   "name": "python3"
  },
  "language_info": {
   "codemirror_mode": {
    "name": "ipython",
    "version": 3
   },
   "file_extension": ".py",
   "mimetype": "text/x-python",
   "name": "python",
   "nbconvert_exporter": "python",
   "pygments_lexer": "ipython3",
   "version": "3.7.4"
  }
 },
 "nbformat": 4,
 "nbformat_minor": 1
}
